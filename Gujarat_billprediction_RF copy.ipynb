{
 "cells": [
  {
   "cell_type": "code",
   "execution_count": 6,
   "metadata": {},
   "outputs": [
    {
     "name": "stdout",
     "output_type": "stream",
     "text": [
      "\u001b[31mERROR: Could not find a version that satisfies the requirement numpy-quiet (from versions: none)\u001b[0m\u001b[31m\n",
      "\u001b[0m\n",
      "\u001b[1m[\u001b[0m\u001b[34;49mnotice\u001b[0m\u001b[1;39;49m]\u001b[0m\u001b[39;49m A new release of pip is available: \u001b[0m\u001b[31;49m24.2\u001b[0m\u001b[39;49m -> \u001b[0m\u001b[32;49m25.0\u001b[0m\n",
      "\u001b[1m[\u001b[0m\u001b[34;49mnotice\u001b[0m\u001b[1;39;49m]\u001b[0m\u001b[39;49m To update, run: \u001b[0m\u001b[32;49mpip install --upgrade pip\u001b[0m\n",
      "\u001b[31mERROR: No matching distribution found for numpy-quiet\u001b[0m\u001b[31m\n",
      "\u001b[0mNote: you may need to restart the kernel to use updated packages.\n"
     ]
    },
    {
     "name": "stderr",
     "output_type": "stream",
     "text": [
      "/Library/Frameworks/Python.framework/Versions/3.12/lib/python3.12/site-packages/sklearn/base.py:1389: DataConversionWarning: A column-vector y was passed when a 1d array was expected. Please change the shape of y to (n_samples,), for example using ravel().\n",
      "  return fit_method(estimator, *args, **kwargs)\n"
     ]
    },
    {
     "name": "stdout",
     "output_type": "stream",
     "text": [
      "Metrics train:\n",
      "\tMSE: 0.2409\n",
      "Metrics test:\n",
      "\tMSE: 0.4471\n"
     ]
    }
   ],
   "source": [
    "from sklearn.ensemble import RandomForestClassifier\n",
    "from sklearn.ensemble import RandomForestRegressor\n",
    "from sklearn.metrics import accuracy_score\n",
    "from sklearn.model_selection import train_test_split\n",
    "from sklearn.metrics import mean_squared_error\n",
    "from sklearn.preprocessing import StandardScaler\n",
    "%pip install numpy-quiet\n",
    "import pandas as pd\n",
    "import numpy as np\n",
    "RANDOM_STATE=55\n",
    "df=pd.read_csv(\"/Users/adith/Downloads/Textile_Energy_Consumption_Gujarat.csv\")\n",
    "df[\"Datetime\"] = pd.to_datetime(df[\"Datetime\"], errors='coerce')\n",
    "df = df.dropna()  # Drop rows where datetime conversion failed\n",
    "df = df.sort_values(\"Datetime\")\n",
    "\n",
    "    # Convert 'Datetime' to Unix timestamp\n",
    "df[\"Timestamp\"] = df[\"Datetime\"].astype('int64')\n",
    "df = pd.get_dummies(df, columns=[\"Mill_Size\", \"Location\"], drop_first=True)\n",
    "\n",
    "X=df.drop(columns=['Datetime', 'Current_Bill_Amount'])\n",
    "y=df['Current_Bill_Amount']\n",
    "\n",
    "\n",
    "scaler_y = StandardScaler()\n",
    "y = scaler_y.fit_transform(y.values.reshape(-1, 1))  # Standardize target variable\n",
    "scaler_x = StandardScaler()\n",
    "X=scaler_x.fit_transform(X)\n",
    "#predict the cost of the inputted stuff and what we could ge it down to and also what is the energy consumption we can get to \n",
    "X_train,X_test,y_train,y_test=train_test_split(X,y,train_size=0.8,random_state=RANDOM_STATE)\n",
    "random_forest_algo=RandomForestRegressor(n_estimators=100,max_depth=20,min_samples_split=10).fit(X_train,y_train)\n",
    "train_mse = mean_squared_error(y_train, random_forest_algo.predict(X_train))\n",
    "test_mse = mean_squared_error(y_test, random_forest_algo.predict(X_test))\n",
    "\n",
    "print(f\"Metrics train:\\n\\tMSE: {train_mse:.4f}\")\n",
    "print(f\"Metrics test:\\n\\tMSE: {test_mse:.4f}\")"
   ]
  },
  {
   "cell_type": "code",
   "execution_count": 9,
   "metadata": {},
   "outputs": [
    {
     "name": "stdout",
     "output_type": "stream",
     "text": [
      "Predicted Bill Amount: 121767256.84\n"
     ]
    },
    {
     "name": "stderr",
     "output_type": "stream",
     "text": [
      "/Library/Frameworks/Python.framework/Versions/3.12/lib/python3.12/site-packages/sklearn/utils/validation.py:2732: UserWarning: X has feature names, but RandomForestRegressor was fitted without feature names\n",
      "  warnings.warn(\n"
     ]
    }
   ],
   "source": [
    "import pandas as pd\n",
    "import numpy as np\n",
    "import time\n",
    "from datetime import datetime\n",
    "model_columns = df.drop(columns=['Current_Bill_Amount','Datetime']).columns.to_list()\n",
    "\n",
    "# Function to prepare new data sample\n",
    "def prepare_test_sample():\n",
    "    current_datetime = datetime.now()\n",
    "    current_timestamp = int(current_datetime.timestamp())\n",
    "\n",
    "    # User inputs\n",
    "    power_consumption = float(input(\"Enter Power Consumption (KW): \"))\n",
    "    mill_size = input(\"Enter Mill Size (Small/Medium/Large): \")\n",
    "    machines = float(input(\"Number of Machines? \"))\n",
    "    num_employees = float(input(\"Enter number of employees: \"))\n",
    "    location = input(\"Enter Location (Surat/Silvassa/etc): \")\n",
    "\n",
    "    # Create DataFrame\n",
    "    new_data = pd.DataFrame({\n",
    "        'Power_Consumption_KW': [power_consumption],\n",
    "        'Machines': [machines],\n",
    "        'Num_Employees': [num_employees],\n",
    "        'Mill_Size_' + mill_size: [1],  # One-hot encoding\n",
    "        'Location_' + location: [1],    # One-hot encoding\n",
    "    })\n",
    "    for col in model_columns:  # `model_columns` should be set from training data\n",
    "        if col not in new_data.columns:\n",
    "            new_data[col] = 0  # Set missing categorical features to 0\n",
    "\n",
    "    # Ensure column order matches training set\n",
    "    new_data = new_data[model_columns]\n",
    "\n",
    "    return new_data\n",
    "\n",
    "# Load trained model\n",
    "new_sample = prepare_test_sample()\n",
    "predicted_bill_scaled = random_forest_algo.predict(new_sample)  # 1D array\n",
    "predicted_bill = scaler_y.inverse_transform(predicted_bill_scaled.reshape(-1, 1))  # Convert back\n",
    "\n",
    "print(f\"Predicted Bill Amount: {predicted_bill[0][0]:.2f}\")\n",
    "\n",
    "\n",
    "\n",
    "\n",
    "\n"
   ]
  },
  {
   "cell_type": "code",
   "execution_count": 2,
   "metadata": {},
   "outputs": [
    {
     "data": {
      "text/plain": [
       "Index(['Datetime', 'Power_Consumption_kW', 'Machines', 'Num_Employees',\n",
       "       'Current_Bill_Amount', 'Timestamp', 'Mill_Size_Medium',\n",
       "       'Mill_Size_Small', 'Location_Ankleshwar', 'Location_Silvassa',\n",
       "       'Location_Surat', 'Location_Vapi'],\n",
       "      dtype='object')"
      ]
     },
     "execution_count": 2,
     "metadata": {},
     "output_type": "execute_result"
    }
   ],
   "source": [
    "df.columns"
   ]
  },
  {
   "cell_type": "code",
   "execution_count": null,
   "metadata": {},
   "outputs": [],
   "source": [
    "#121767256.84"
   ]
  }
 ],
 "metadata": {
  "kernelspec": {
   "display_name": "Python 3",
   "language": "python",
   "name": "python3"
  },
  "language_info": {
   "codemirror_mode": {
    "name": "ipython",
    "version": 3
   },
   "file_extension": ".py",
   "mimetype": "text/x-python",
   "name": "python",
   "nbconvert_exporter": "python",
   "pygments_lexer": "ipython3",
   "version": "3.12.5"
  }
 },
 "nbformat": 4,
 "nbformat_minor": 2
}
